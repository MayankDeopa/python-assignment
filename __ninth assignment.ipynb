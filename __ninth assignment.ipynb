{
 "cells": [
  {
   "cell_type": "markdown",
   "id": "708ce242",
   "metadata": {},
   "source": [
    "1. To what does a relative path refer?\n",
    "\n"
   ]
  },
  {
   "cell_type": "markdown",
   "id": "193f01cc",
   "metadata": {},
   "source": [
    "relative path shows current working directory path\n",
    "\n",
    "for me it is: Python Basic Assignments\\Assignment_9.ipynb\n"
   ]
  },
  {
   "cell_type": "code",
   "execution_count": 1,
   "id": "9a5a5a15",
   "metadata": {},
   "outputs": [
    {
     "data": {
      "text/plain": [
       "'E:\\\\data science\\\\ineuron full stack DS\\\\Assignments\\\\PythonBasicAssignments\\\\Assignment_p.ipynb'"
      ]
     },
     "execution_count": 1,
     "metadata": {},
     "output_type": "execute_result"
    }
   ],
   "source": [
    "import os\n",
    "path = 'E:\\data science\\ineuron full stack DS\\Assignments\\PythonBasicAssignments\\Assignment_p.ipynb'\n",
    "os.path.realpath(path)"
   ]
  },
  {
   "cell_type": "markdown",
   "id": "6ac087ac",
   "metadata": {},
   "source": [
    "2. What does an absolute path start with your operating system?\n",
    "\n"
   ]
  },
  {
   "cell_type": "markdown",
   "id": "2abb95f5",
   "metadata": {},
   "source": [
    "absolute path = pwd + relative path\n",
    "\n",
    "absolute path always starts with rootdi directory\n"
   ]
  },
  {
   "cell_type": "code",
   "execution_count": 2,
   "id": "c58b6b45",
   "metadata": {},
   "outputs": [
    {
     "data": {
      "text/plain": [
       "'E:\\\\data science\\\\ineuron full stack DS\\\\Assignments\\\\PythonBasicAssignments\\\\Assignment_p.ipynb'"
      ]
     },
     "execution_count": 2,
     "metadata": {},
     "output_type": "execute_result"
    }
   ],
   "source": [
    "os.path.abspath(path)"
   ]
  },
  {
   "cell_type": "markdown",
   "id": "f453d555",
   "metadata": {},
   "source": [
    "3. What do the functions os.getcwd() and os.chdir() do?\n"
   ]
  },
  {
   "cell_type": "markdown",
   "id": "72662d6d",
   "metadata": {},
   "source": [
    "os.chdir() performs change directory\n",
    "\n",
    "os.getcwd() gives current working directory"
   ]
  },
  {
   "cell_type": "markdown",
   "id": "bf01a814",
   "metadata": {},
   "source": [
    "4. What are the . and .. folders?\n"
   ]
  },
  {
   "cell_type": "markdown",
   "id": "87186353",
   "metadata": {},
   "source": [
    "these are not real folder but are special names for path\n",
    "\n",
    "(.) = this directory\n",
    "(..)= parent directory"
   ]
  },
  {
   "cell_type": "markdown",
   "id": "64643658",
   "metadata": {},
   "source": [
    "5. In C:\\bacon\\eggs\\spam.txt, which part is the dir name, and which part is the base name?\n"
   ]
  },
  {
   "cell_type": "markdown",
   "id": "6c5a7db4",
   "metadata": {},
   "source": [
    "C:\\bacon\\eggs --> dir name\n",
    "\n",
    "spam.txt --> base name"
   ]
  },
  {
   "cell_type": "markdown",
   "id": "87b79413",
   "metadata": {},
   "source": [
    "6. What are the three “mode” arguments that can be passed to the open() function?\n"
   ]
  },
  {
   "cell_type": "markdown",
   "id": "947e2448",
   "metadata": {},
   "source": [
    "Three mode arguments are:\n",
    "\n",
    "1. 'r' --> open for reading in text mode.\n",
    "2. 'w' --> open for writing.\n",
    "3. 'a' --> open for appending."
   ]
  },
  {
   "cell_type": "markdown",
   "id": "913aaa05",
   "metadata": {},
   "source": [
    "7. What happens if an existing file is opened in write mode?\n"
   ]
  },
  {
   "cell_type": "markdown",
   "id": "86300567",
   "metadata": {},
   "source": [
    "when an existing file is opened in write mode previous content is erased and file is treated as new empty file."
   ]
  },
  {
   "cell_type": "markdown",
   "id": "d23df0ed",
   "metadata": {},
   "source": [
    "8. How do you tell the difference between read() and readlines()?\n"
   ]
  },
  {
   "cell_type": "markdown",
   "id": "86c7bdfd",
   "metadata": {},
   "source": [
    "read() --> it iterates over each character.\n",
    "\n",
    "readlines() --> read only single line of the file."
   ]
  },
  {
   "cell_type": "markdown",
   "id": "3f73bce3",
   "metadata": {},
   "source": [
    "9. What data structure does a shelf value resemble?\n"
   ]
  },
  {
   "cell_type": "markdown",
   "id": "8a0f1d09",
   "metadata": {},
   "source": [
    "dictionary."
   ]
  }
 ],
 "metadata": {
  "kernelspec": {
   "display_name": "Python 3 (ipykernel)",
   "language": "python",
   "name": "python3"
  },
  "language_info": {
   "codemirror_mode": {
    "name": "ipython",
    "version": 3
   },
   "file_extension": ".py",
   "mimetype": "text/x-python",
   "name": "python",
   "nbconvert_exporter": "python",
   "pygments_lexer": "ipython3",
   "version": "3.9.12"
  }
 },
 "nbformat": 4,
 "nbformat_minor": 5
}
