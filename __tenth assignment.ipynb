{
 "cells": [
  {
   "cell_type": "markdown",
   "id": "af326976",
   "metadata": {},
   "source": [
    "1. How do you distinguish between shutil.copy() and shutil.copytree()?\n"
   ]
  },
  {
   "cell_type": "markdown",
   "id": "b896a0e5",
   "metadata": {},
   "source": [
    "shutil.copytree() will copy entire folder like branchers of trees\n",
    "\n",
    "whereas shutil.copy() will copy only single folder"
   ]
  },
  {
   "cell_type": "markdown",
   "id": "14609594",
   "metadata": {},
   "source": [
    "2. What function is used to rename files??\n"
   ]
  },
  {
   "cell_type": "markdown",
   "id": "b4ab8f92",
   "metadata": {},
   "source": [
    "First import os module then use os.rename() to rename a file."
   ]
  },
  {
   "cell_type": "markdown",
   "id": "2bbf5f45",
   "metadata": {},
   "source": [
    "3. What is the difference between the delete functions in the send2trash and shutil modules?\n"
   ]
  },
  {
   "cell_type": "markdown",
   "id": "5b332811",
   "metadata": {},
   "source": [
    "send2trash sends file to recycle bin\n",
    "\n",
    "shutil module deletes file permanantly."
   ]
  },
  {
   "cell_type": "markdown",
   "id": "805fe4f0",
   "metadata": {},
   "source": [
    "4.ZipFile objects have a close() method just like File objects’ close() method.what ZipFile method is equivalent to File objects’ open() method?\n",
    "\n"
   ]
  },
  {
   "cell_type": "markdown",
   "id": "338d5080",
   "metadata": {},
   "source": [
    "to open or write to a zipfile we use 'w' as second argument similar to file objects open()\n"
   ]
  },
  {
   "cell_type": "code",
   "execution_count": 1,
   "id": "a4063636",
   "metadata": {},
   "outputs": [],
   "source": [
    "import zipfile as zf\n",
    "a = zf.ZipFile(\"abc.zip\",'w')\n",
    "a.close()"
   ]
  },
  {
   "cell_type": "markdown",
   "id": "f525b5da",
   "metadata": {},
   "source": [
    "5. Create a programme that searches a folder tree for files with a certain file extension (such as .pdf or .jpg). Copy these files from whatever location they are in to a new folder.\n"
   ]
  },
  {
   "cell_type": "markdown",
   "id": "52e15529",
   "metadata": {},
   "source": [
    "import os\n",
    "\n",
    "import shutil\n"
   ]
  },
  {
   "cell_type": "code",
   "execution_count": 2,
   "id": "912779fe",
   "metadata": {},
   "outputs": [
    {
     "name": "stdout",
     "output_type": "stream",
     "text": [
      "searching --> C:\\Users\\lenovo\\randomfolder for ['.pdf', '.jpg'] file\n"
     ]
    }
   ],
   "source": [
    "\n",
    "import os, shutil\n",
    "\n",
    "def search_and_copy(folder, extensions, destFolder):\n",
    "    folder = os.path.abspath(folder)\n",
    "    destFolder = os.path.abspath(destFolder)\n",
    "    print('searching --> {} for {} file'.format(folder,extensions))\n",
    "    for foldername, subfolders, filenames in os.walk(folder):\n",
    "        for filename in filenames:\n",
    "            name, extension = os.path.splitext(filename)\n",
    "            if extension in extensions:\n",
    "                fileAbsPath = foldername + os.path.sep + filename\n",
    "                print('Coping', fileAbsPath, 'to', destFolder)\n",
    "                shutil.copy(fileAbsPath, destFolder)\n",
    "\n",
    "extensions = ['.pdf','.jpg']\n",
    "folder = 'randomfolder'\n",
    "destFolder = 'destination'\n",
    "search_and_copy(folder, extensions, destFolder)"
   ]
  }
 ],
 "metadata": {
  "kernelspec": {
   "display_name": "Python 3 (ipykernel)",
   "language": "python",
   "name": "python3"
  },
  "language_info": {
   "codemirror_mode": {
    "name": "ipython",
    "version": 3
   },
   "file_extension": ".py",
   "mimetype": "text/x-python",
   "name": "python",
   "nbconvert_exporter": "python",
   "pygments_lexer": "ipython3",
   "version": "3.9.12"
  }
 },
 "nbformat": 4,
 "nbformat_minor": 5
}
