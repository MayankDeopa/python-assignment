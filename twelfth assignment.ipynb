{
 "cells": [
  {
   "cell_type": "markdown",
   "id": "4ff8f475",
   "metadata": {},
   "source": [
    "1. In what modes should the PdfFileReader() and PdfFileWriter() File objects will be opened?\n"
   ]
  },
  {
   "cell_type": "markdown",
   "id": "96e2da2e",
   "metadata": {},
   "source": [
    "import PyPDF2\n",
    "\n",
    "PdfFileReader() -- it is used in 'rb' mode i.e. read binary\n",
    "\n",
    "PdfFileWriter() -- it is used in 'wb' mode i.e. write binary"
   ]
  },
  {
   "cell_type": "markdown",
   "id": "9792eded",
   "metadata": {},
   "source": [
    "2. From a PdfFileReader object, how do you get a Page object for page 5?\n"
   ]
  },
  {
   "cell_type": "markdown",
   "id": "97ad763e",
   "metadata": {},
   "source": [
    "use getpage(5) method."
   ]
  },
  {
   "cell_type": "markdown",
   "id": "e6d14029",
   "metadata": {},
   "source": [
    "3. What PdfFileReader variable stores the number of pages in the PDF document?\n"
   ]
  },
  {
   "cell_type": "markdown",
   "id": "4f315b6b",
   "metadata": {},
   "source": [
    "numPages stores the total number of pages in a pdf"
   ]
  },
  {
   "cell_type": "markdown",
   "id": "4c1f2769",
   "metadata": {},
   "source": [
    "4. If a PdfFileReader object’s PDF is encrypted with the password swordfish, what must you do before you can obtain Page objects from it?\n"
   ]
  },
  {
   "cell_type": "markdown",
   "id": "2dd9d43e",
   "metadata": {},
   "source": [
    "step 1 - load pdf [ PyPDF2.PdfFileReader(open('encrypted.pdf', 'rb')) ]\n",
    "\n",
    "step 2 - check weather it is encrypted [ pdf.isEncrypted ]\n",
    "\n",
    "step 3 - if encrypted use [ pdf.decrypt('swordfish') ]"
   ]
  },
  {
   "cell_type": "markdown",
   "id": "dc7989a1",
   "metadata": {},
   "source": [
    "5. What methods do you use to rotate a page?\n"
   ]
  },
  {
   "cell_type": "markdown",
   "id": "e85639b5",
   "metadata": {},
   "source": [
    "For anticlockwise: rotateCounterClockwise()\n",
    "\n",
    "for clockwise : rotateClockwise()"
   ]
  },
  {
   "cell_type": "markdown",
   "id": "e843b336",
   "metadata": {},
   "source": [
    "6. What is the difference between a Run object and a Paragraph object?\n"
   ]
  },
  {
   "cell_type": "markdown",
   "id": "22267fb4",
   "metadata": {},
   "source": [
    "Word document contain formatted text wrapped within three object levels: lowest level: run objects. middle level: paragraph objects. highest level: document object.\n",
    "\n",
    "Run Object is used for inline content, text, pictures and other items within a paragraph"
   ]
  },
  {
   "cell_type": "markdown",
   "id": "3f6e06d5",
   "metadata": {},
   "source": [
    "7. How do you obtain a list of Paragraph objects for a Document object that’s stored in a variable named doc?\n"
   ]
  },
  {
   "cell_type": "markdown",
   "id": "799bf5fb",
   "metadata": {},
   "source": [
    "pip install python-docx\n",
    "import docx\n",
    "d = docx.Document('trial.docx')\n",
    "len(d.paragraphs)"
   ]
  },
  {
   "cell_type": "markdown",
   "id": "11e03d12",
   "metadata": {},
   "source": [
    "8. What type of object has bold, underline, italic, strike, and outline variables?\n"
   ]
  },
  {
   "cell_type": "markdown",
   "id": "eb82d861",
   "metadata": {},
   "source": [
    "Run object"
   ]
  },
  {
   "cell_type": "markdown",
   "id": "faed66d2",
   "metadata": {},
   "source": [
    "9. What is the difference between False, True, and None for the bold variable?\n"
   ]
  },
  {
   "cell_type": "markdown",
   "id": "d1a23df7",
   "metadata": {},
   "source": [
    "False = off\n",
    "\n",
    "True = on\n",
    "\n",
    "none = not available"
   ]
  },
  {
   "cell_type": "markdown",
   "id": "502a97a3",
   "metadata": {},
   "source": [
    "10. How do you create a Document object for a new Word document?\n"
   ]
  },
  {
   "cell_type": "markdown",
   "id": "686d4d0e",
   "metadata": {},
   "source": [
    "doc = docx.Document()\n",
    "\n",
    "doc.add_paragraph('world')\n",
    "\n",
    "doc.save('hello.docx')"
   ]
  },
  {
   "cell_type": "markdown",
   "id": "4be70db2",
   "metadata": {},
   "source": [
    "11. How do you add a paragraph with the text 'Hello, there!' to a Document object stored in a variable named doc?\n"
   ]
  },
  {
   "cell_type": "markdown",
   "id": "782b6632",
   "metadata": {},
   "source": [
    "doc = docx.Document()\n",
    "\n",
    "doc.add_paragraph('Hello,there!')\n",
    "\n",
    "doc.save('hellothere.docx')"
   ]
  },
  {
   "cell_type": "markdown",
   "id": "d3e2a791",
   "metadata": {},
   "source": [
    "12. What integers represent the levels of headings available in Word documents?\n"
   ]
  },
  {
   "cell_type": "markdown",
   "id": "b0175ed0",
   "metadata": {},
   "source": [
    "integers 1 to 4 are for various heading levels where 1 is main heading and 4 the lowest subheading."
   ]
  }
 ],
 "metadata": {
  "kernelspec": {
   "display_name": "Python 3 (ipykernel)",
   "language": "python",
   "name": "python3"
  },
  "language_info": {
   "codemirror_mode": {
    "name": "ipython",
    "version": 3
   },
   "file_extension": ".py",
   "mimetype": "text/x-python",
   "name": "python",
   "nbconvert_exporter": "python",
   "pygments_lexer": "ipython3",
   "version": "3.9.12"
  }
 },
 "nbformat": 4,
 "nbformat_minor": 5
}
