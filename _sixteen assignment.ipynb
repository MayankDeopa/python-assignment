{
 "cells": [
  {
   "cell_type": "markdown",
   "id": "069ab9bd",
   "metadata": {},
   "source": [
    "1. Create a list called years_list, starting with the year of your birth, and each year thereafter until the year of your fifth birthday. For example, if you were born in 1980. the list would be years_list = [1980, 1981, 1982, 1983, 1984, 1985].\n"
   ]
  },
  {
   "cell_type": "code",
   "execution_count": null,
   "id": "a2d4db43",
   "metadata": {},
   "outputs": [],
   "source": [
    "yob = int(input(\"Enter year of birth\"))\n",
    "years_list = []\n",
    "if type(yob)==int:\n",
    "    for i in range(yob,yob+6):\n",
    "        years_list.append(i)\n",
    "print(years_list)"
   ]
  },
  {
   "cell_type": "markdown",
   "id": "a9bf56c9",
   "metadata": {},
   "source": [
    "2. In which year in years_list was your third birthday? Remember, you were 0 years of age for your first year.\n",
    "  "
   ]
  },
  {
   "cell_type": "code",
   "execution_count": null,
   "id": "897acc4b",
   "metadata": {},
   "outputs": [],
   "source": [
    " years_list[3]"
   ]
  },
  {
   "cell_type": "markdown",
   "id": "93149a4e",
   "metadata": {},
   "source": [
    "3.In the years list, which year were you the oldest?\n"
   ]
  },
  {
   "cell_type": "code",
   "execution_count": null,
   "id": "3657a7d2",
   "metadata": {},
   "outputs": [],
   "source": [
    "years_list[-1]"
   ]
  },
  {
   "cell_type": "markdown",
   "id": "667f047e",
   "metadata": {},
   "source": [
    "4. Make a list called things with these three strings as elements: \"mozzarella\", \"cinderella\", \"salmonella\"\n"
   ]
  },
  {
   "cell_type": "code",
   "execution_count": 1,
   "id": "41f4e318",
   "metadata": {},
   "outputs": [
    {
     "data": {
      "text/plain": [
       "['mozzarella', 'cinderella', 'salmonella']"
      ]
     },
     "execution_count": 1,
     "metadata": {},
     "output_type": "execute_result"
    }
   ],
   "source": [
    "things = [\"mozzarella\", \"cinderella\", \"salmonella\"]\n",
    "things"
   ]
  },
  {
   "cell_type": "markdown",
   "id": "2f225431",
   "metadata": {},
   "source": [
    "5. Capitalize the element in things that refers to a person and then print the list. Did it change the element in the list?\n"
   ]
  },
  {
   "cell_type": "code",
   "execution_count": 2,
   "id": "ff485882",
   "metadata": {},
   "outputs": [
    {
     "data": {
      "text/plain": [
       "'Cinderella'"
      ]
     },
     "execution_count": 2,
     "metadata": {},
     "output_type": "execute_result"
    }
   ],
   "source": [
    "things[1].capitalize()"
   ]
  },
  {
   "cell_type": "code",
   "execution_count": 3,
   "id": "2dfd8a0d",
   "metadata": {},
   "outputs": [
    {
     "data": {
      "text/plain": [
       "['mozzarella', 'cinderella', 'salmonella']"
      ]
     },
     "execution_count": 3,
     "metadata": {},
     "output_type": "execute_result"
    }
   ],
   "source": [
    "things"
   ]
  },
  {
   "cell_type": "code",
   "execution_count": null,
   "id": "42ba750c",
   "metadata": {},
   "outputs": [],
   "source": [
    "#no i didnot change"
   ]
  },
  {
   "cell_type": "markdown",
   "id": "a9619e6c",
   "metadata": {},
   "source": [
    "6. Make a surprise list with the elements \"Groucho,\" \"Chico,\" and \"Harpo.\"\n"
   ]
  },
  {
   "cell_type": "code",
   "execution_count": 4,
   "id": "375a2f7e",
   "metadata": {},
   "outputs": [
    {
     "data": {
      "text/plain": [
       "['Groucho', 'Chico', 'Harpo']"
      ]
     },
     "execution_count": 4,
     "metadata": {},
     "output_type": "execute_result"
    }
   ],
   "source": [
    "surprise_list = [\"Groucho\" ,\"Chico\" ,\"Harpo\"]\n",
    "surprise_list"
   ]
  },
  {
   "cell_type": "markdown",
   "id": "d01804b8",
   "metadata": {},
   "source": [
    "7. Lowercase the last element of the surprise list, reverse it, and then capitalize it.\n"
   ]
  },
  {
   "cell_type": "code",
   "execution_count": 5,
   "id": "459bbd07",
   "metadata": {},
   "outputs": [
    {
     "data": {
      "text/plain": [
       "['Groucho', 'Chico', 'Oprah']"
      ]
     },
     "execution_count": 5,
     "metadata": {},
     "output_type": "execute_result"
    }
   ],
   "source": [
    "surprise_1 = []\n",
    "for i in surprise_list:\n",
    "    if i!=surprise_list[-1]:\n",
    "        surprise_1.append(i)\n",
    "    else:\n",
    "        b = i.lower()\n",
    "        c = b[::-1]\n",
    "        d = c.capitalize()\n",
    "            \n",
    "        surprise_1.append(d)\n",
    "surprise_list=surprise_1\n",
    "surprise_list"
   ]
  },
  {
   "cell_type": "markdown",
   "id": "99679588",
   "metadata": {},
   "source": [
    "8. Make an English-to-French dictionary called e2f and print it. Here are your starter words: dog is chien, cat is chat, and walrus is morse.\n"
   ]
  },
  {
   "cell_type": "code",
   "execution_count": 6,
   "id": "765ec94f",
   "metadata": {},
   "outputs": [],
   "source": [
    "def e2f(english_word):\n",
    "    english = {\"dog\":\"chein\",\"cat\":\"chat\",\"walrus\":\"morse\"}\n",
    "    for key,value in english.items():\n",
    "        if key==english_word:\n",
    "            print(english.get(english_word))"
   ]
  },
  {
   "cell_type": "code",
   "execution_count": null,
   "id": "1b1b3f69",
   "metadata": {},
   "outputs": [],
   "source": [
    "9. Write the French word for walrus in your three-word dictionary e2f.\n"
   ]
  },
  {
   "cell_type": "code",
   "execution_count": null,
   "id": "79fcab39",
   "metadata": {},
   "outputs": [],
   "source": [
    "e2f(\"walrus\")"
   ]
  },
  {
   "cell_type": "markdown",
   "id": "95c7183b",
   "metadata": {},
   "source": [
    "10. Make a French-to-English dictionary called f2e from e2f. Use the items method.\n"
   ]
  },
  {
   "cell_type": "code",
   "execution_count": 7,
   "id": "eb96df21",
   "metadata": {},
   "outputs": [],
   "source": [
    "def f2e(french_word):\n",
    "    french = {\"chien\":\"dog\",\"chat\":\"cat\",\"morse\":\"walrus\"}\n",
    "    for key,value in french.items():\n",
    "        if key==french_word:\n",
    "            print(french.get(french_word))\n",
    "            "
   ]
  },
  {
   "cell_type": "markdown",
   "id": "5c782f1d",
   "metadata": {},
   "source": [
    "11. Print the English version of the French word chien using f2e.\n"
   ]
  },
  {
   "cell_type": "code",
   "execution_count": 8,
   "id": "40037533",
   "metadata": {},
   "outputs": [
    {
     "name": "stdout",
     "output_type": "stream",
     "text": [
      "dog\n"
     ]
    }
   ],
   "source": [
    "f2e(\"chien\")"
   ]
  },
  {
   "cell_type": "markdown",
   "id": "28ca56fd",
   "metadata": {},
   "source": [
    "12. Make and print a set of English words from the keys in e2f.\n"
   ]
  },
  {
   "cell_type": "code",
   "execution_count": 9,
   "id": "3c03fb5c",
   "metadata": {},
   "outputs": [
    {
     "data": {
      "text/plain": [
       "{'cat', 'dog', 'walrus'}"
      ]
     },
     "execution_count": 9,
     "metadata": {},
     "output_type": "execute_result"
    }
   ],
   "source": [
    "def e2f():\n",
    "    \n",
    "    english = {\"cat\":\"chat\",\"walrus\":\"morse\",\"dog\":\"chien\"}\n",
    "    english_set = set()\n",
    "    for i in english.items():\n",
    "        english_set.add(i[0])\n",
    "    return english_set\n",
    "e2f()"
   ]
  },
  {
   "cell_type": "markdown",
   "id": "d3c0fba6",
   "metadata": {},
   "source": [
    "13. Make a multilevel dictionary called life. Use these strings for the topmost keys: 'animals', 'plants', and 'other'. Make the 'animals' key refer to another dictionary with the keys 'cats', 'octopi', and 'emus'. Make the 'cats' key refer to a list of strings with the values 'Henri', 'Grumpy', and 'Lucy'. Make all the other keys refer to empty dictionaries\n"
   ]
  },
  {
   "cell_type": "code",
   "execution_count": 10,
   "id": "6e73ac97",
   "metadata": {},
   "outputs": [
    {
     "data": {
      "text/plain": [
       "{'animals': {'cats': ['Henri', 'Grumpy', 'Lucy'], 'octopi': {}, 'emus': {}},\n",
       " 'plants': {},\n",
       " 'other': {}}"
      ]
     },
     "execution_count": 10,
     "metadata": {},
     "output_type": "execute_result"
    }
   ],
   "source": [
    "life = { 'animals' : { 'cats' : [ 'Henri', 'Grumpy', 'Lucy' ], 'octopi' : {}, 'emus' : {}  }, 'plants' : {}, 'other' : {} }\n",
    "life"
   ]
  },
  {
   "cell_type": "markdown",
   "id": "16e47941",
   "metadata": {},
   "source": [
    "14. Print the top-level keys of life.\n"
   ]
  },
  {
   "cell_type": "code",
   "execution_count": 11,
   "id": "58bf0095",
   "metadata": {},
   "outputs": [
    {
     "name": "stdout",
     "output_type": "stream",
     "text": [
      "dict_keys(['animals', 'plants', 'other'])\n"
     ]
    }
   ],
   "source": [
    "print(life.keys())"
   ]
  },
  {
   "cell_type": "markdown",
   "id": "a0c821cb",
   "metadata": {},
   "source": [
    "15. Print the keys for life['animals'].\n"
   ]
  },
  {
   "cell_type": "code",
   "execution_count": 12,
   "id": "51da4a4f",
   "metadata": {},
   "outputs": [
    {
     "data": {
      "text/plain": [
       "{'cats': ['Henri', 'Grumpy', 'Lucy'], 'octopi': {}, 'emus': {}}"
      ]
     },
     "execution_count": 12,
     "metadata": {},
     "output_type": "execute_result"
    }
   ],
   "source": [
    "life['animals']"
   ]
  },
  {
   "cell_type": "markdown",
   "id": "a760320b",
   "metadata": {},
   "source": [
    "6. Print the values for life['animals']['cats']\n"
   ]
  },
  {
   "cell_type": "code",
   "execution_count": 13,
   "id": "e39dbcf2",
   "metadata": {},
   "outputs": [
    {
     "data": {
      "text/plain": [
       "['Henri', 'Grumpy', 'Lucy']"
      ]
     },
     "execution_count": 13,
     "metadata": {},
     "output_type": "execute_result"
    }
   ],
   "source": [
    "life['animals']['cats']"
   ]
  }
 ],
 "metadata": {
  "kernelspec": {
   "display_name": "Python 3 (ipykernel)",
   "language": "python",
   "name": "python3"
  },
  "language_info": {
   "codemirror_mode": {
    "name": "ipython",
    "version": 3
   },
   "file_extension": ".py",
   "mimetype": "text/x-python",
   "name": "python",
   "nbconvert_exporter": "python",
   "pygments_lexer": "ipython3",
   "version": "3.9.12"
  }
 },
 "nbformat": 4,
 "nbformat_minor": 5
}
