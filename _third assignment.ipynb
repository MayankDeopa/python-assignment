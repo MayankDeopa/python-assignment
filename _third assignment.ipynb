{
 "cells": [
  {
   "cell_type": "raw",
   "id": "4d57f2fe",
   "metadata": {},
   "source": [
    "1. Why are functions advantageous to have in your programs?\n",
    "= because of their reusuability which makes program shorter, easy to read and update.\n",
    "\n",
    "2. When does the code in a function run: when it's specified or when it's called?\n",
    "= When a function is called and starts executing the function\n",
    "\n",
    "3. What statement creates a function?\n",
    "= def function_name(arguments):\n",
    "    return arguments\n",
    "4. What is the difference between a function and a function call?\n",
    "= function is a pre-coded task which will only perform if it is called. this is where function call comes into picture to achieve the task.\n",
    "\n",
    "5. How many global scopes are there in a Python program? How many local scopes?\n",
    " = there is only one global scope per python program there can be as many local scopes as you in side a program because variable crearted inside a function can only be used in that space.\n",
    "\n",
    "6. What happens to variables in a local scope when the function call returns?\n",
    "= variable in a local space is confined to that space of function can only be used in that function and therefore retains its value untill next time function is called\n",
    "\n",
    "7. What is the concept of a return value? Is it possible to have a return value in an expression?\n",
    "= return value is a special statement in a function which is used to sent result to caller who called function.\n",
    "\n",
    "yes it is possible to have return value in an expression.\n",
    "\n",
    "8. If a function does not have a return statement, what is the return value of a call to that function?\n",
    "=it doesnt return any particular value\n",
    "\n",
    "9. How do you make a function variable refer to the global variable?\n",
    "= Global variable is not connected to any particular function which means it is free to be called in any function and also be reused. Therefore to refer a function variable to global variable we use global keyword to declare which variable are global\n",
    "\n",
    "10. What is the data type of None?\n",
    "= type(None) # it is null neither Zero nor any other value\n",
    "NoneType\n",
    "11. What does the sentence import areallyourpetsnamederic do?\n",
    "= it will import areallyourpetnamederic module.\n",
    "\n",
    "12. If you had a bacon() feature in a spam module, what would you call it after importing spam?\n",
    "= spam.bacon()\n",
    "\n",
    "13. What can you do to save a programme from crashing if it encounters an error?\n",
    "= I will use try and catch for preventing crash\n",
    "\n",
    "14. What is the purpose of the try clause? What is the purpose of the except clause?\n",
    "= TRY CLAUSE: try clause is used when you think that program can crash so you try to run the program and it crashes it wont disturb other part of program\n",
    "\n",
    "EXCEPT CLAUSE: except clause is used when you are trying a certain part of program but it fails so it used as a response to exception.\n",
    "\n",
    " "
   ]
  },
  {
   "cell_type": "markdown",
   "id": "f388e909",
   "metadata": {},
   "source": []
  },
  {
   "cell_type": "code",
   "execution_count": null,
   "id": "39645d2c",
   "metadata": {},
   "outputs": [],
   "source": []
  }
 ],
 "metadata": {
  "kernelspec": {
   "display_name": "Python 3 (ipykernel)",
   "language": "python",
   "name": "python3"
  },
  "language_info": {
   "codemirror_mode": {
    "name": "ipython",
    "version": 3
   },
   "file_extension": ".py",
   "mimetype": "text/x-python",
   "name": "python",
   "nbconvert_exporter": "python",
   "pygments_lexer": "ipython3",
   "version": "3.9.12"
  }
 },
 "nbformat": 4,
 "nbformat_minor": 5
}
