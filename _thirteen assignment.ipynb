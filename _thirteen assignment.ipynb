{
 "cells": [
  {
   "cell_type": "markdown",
   "id": "37521c6f",
   "metadata": {},
   "source": [
    "1. What advantages do Excel spreadsheets have over CSV spreadsheets?\n"
   ]
  },
  {
   "cell_type": "markdown",
   "id": "cef164ef",
   "metadata": {},
   "source": [
    "We can do a lot of various operations on data in excel but no in csv.\n",
    "Excel can store more complex data.\n",
    "No distinction between data type in csv"
   ]
  },
  {
   "cell_type": "markdown",
   "id": "503c6b7a",
   "metadata": {},
   "source": [
    "2.What do you pass to csv.reader() and csv.writer() to create reader and writer objects?\n"
   ]
  },
  {
   "cell_type": "code",
   "execution_count": null,
   "id": "32913df7",
   "metadata": {},
   "outputs": [],
   "source": [
    "import csv\n"
   ]
  },
  {
   "cell_type": "markdown",
   "id": "0e35ee65",
   "metadata": {},
   "source": [
    "In csv.reader() we pass file and dialect. In csv.writer() we pass fileobj and dialect."
   ]
  },
  {
   "cell_type": "markdown",
   "id": "7d09f1f7",
   "metadata": {},
   "source": [
    "3. What modes do File objects for reader and writer objects need to be opened in?\n"
   ]
  },
  {
   "cell_type": "markdown",
   "id": "be70ff62",
   "metadata": {},
   "source": [
    "in reader object we open file in read mode 'r'\n",
    "\n",
    "in writer object we open file in write mode 'w'."
   ]
  },
  {
   "cell_type": "markdown",
   "id": "1e447acd",
   "metadata": {},
   "source": [
    "4. What method takes a list argument and writes it to a CSV file?\n"
   ]
  },
  {
   "cell_type": "markdown",
   "id": "0b38c3b4",
   "metadata": {},
   "source": [
    "use writerow() method for list argument in csv file."
   ]
  },
  {
   "cell_type": "markdown",
   "id": "02f52b37",
   "metadata": {},
   "source": [
    "5. What do the keyword arguments delimiter and line terminator do?\n"
   ]
  },
  {
   "cell_type": "markdown",
   "id": "0717cde4",
   "metadata": {},
   "source": [
    "firstname, lastname, age\n",
    "\n",
    "vaishnavi, abbugari, 21\n",
    "\n",
    "puppy, abbugari,18\n",
    "\n",
    "here ',' is delimiter we can use any character as per our needs. line terminator comes at end of line by default it is newline and can be changed accourding to requirement."
   ]
  },
  {
   "cell_type": "markdown",
   "id": "bfc61ce5",
   "metadata": {},
   "source": [
    "6. What function takes a string of JSON data and returns a Python data structure?\n"
   ]
  },
  {
   "cell_type": "markdown",
   "id": "66e97e0f",
   "metadata": {},
   "source": [
    "dumps() function convert json data into python data structure"
   ]
  },
  {
   "cell_type": "markdown",
   "id": "c86e9bc5",
   "metadata": {},
   "source": [
    "7. What function takes a Python data structure and returns a string of JSON data?\n",
    "\n",
    "\n",
    " "
   ]
  },
  {
   "cell_type": "markdown",
   "id": "7b88bba8",
   "metadata": {},
   "source": [
    "loads() function converts python data structure and returns a string of json data."
   ]
  }
 ],
 "metadata": {
  "kernelspec": {
   "display_name": "Python 3 (ipykernel)",
   "language": "python",
   "name": "python3"
  },
  "language_info": {
   "codemirror_mode": {
    "name": "ipython",
    "version": 3
   },
   "file_extension": ".py",
   "mimetype": "text/x-python",
   "name": "python",
   "nbconvert_exporter": "python",
   "pygments_lexer": "ipython3",
   "version": "3.9.12"
  }
 },
 "nbformat": 4,
 "nbformat_minor": 5
}
