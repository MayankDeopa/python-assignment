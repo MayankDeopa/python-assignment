{
 "cells": [
  {
   "cell_type": "markdown",
   "id": "c011e026",
   "metadata": {},
   "source": [
    "1. What is the result of the code, and explain?\n"
   ]
  },
  {
   "cell_type": "markdown",
   "id": "79a1390c",
   "metadata": {},
   "source": [
    ">>> X = 'iNeuron'\n",
    " >>> def func():\n",
    " print(X)\n",
    " >>> func()"
   ]
  },
  {
   "cell_type": "markdown",
   "id": "23062857",
   "metadata": {},
   "source": [
    " \n",
    "Ans: The Result of this code is iNeuron, it's because the function intially looks for the variable X in its local scope,But since there is no local variable X, its returns the value of global variable x ie iNeuron"
   ]
  },
  {
   "cell_type": "code",
   "execution_count": 1,
   "id": "603ed767",
   "metadata": {},
   "outputs": [
    {
     "name": "stdout",
     "output_type": "stream",
     "text": [
      "iNeuron\n"
     ]
    }
   ],
   "source": [
    "X = 'iNeuron'\n",
    "def func():\n",
    "    print(X)\n",
    "func()"
   ]
  },
  {
   "cell_type": "markdown",
   "id": "32300df7",
   "metadata": {},
   "source": [
    "2. What is the result of the code, and explain?\n",
    " "
   ]
  },
  {
   "cell_type": "code",
   "execution_count": null,
   "id": "a8947324",
   "metadata": {},
   "outputs": [],
   "source": [
    " >>> X = 'iNeuron'\n",
    "   >>> def func():\n",
    "   X = 'NI!'\n",
    "   >>> func()\n",
    "   >>> print(X)"
   ]
  },
  {
   "cell_type": "markdown",
   "id": "a44352b5",
   "metadata": {},
   "source": [
    " \n",
    "Ans: The Result of this cide is NI!, because the function initially looks for the variable X in its local scope if X is not available then it checks for variable X in the global scope, Since here the X is present in the local scope. it prints the value NI!"
   ]
  },
  {
   "cell_type": "code",
   "execution_count": 2,
   "id": "74d82962",
   "metadata": {},
   "outputs": [
    {
     "name": "stdout",
     "output_type": "stream",
     "text": [
      "NI!\n"
     ]
    }
   ],
   "source": [
    "X = 'iNeuron'\n",
    "def func():\n",
    "    X = 'NI!'\n",
    "    print(X)\n",
    "func()"
   ]
  },
  {
   "cell_type": "markdown",
   "id": "40e6e6e6",
   "metadata": {},
   "source": [
    "3. What does this code print, and why?\n"
   ]
  },
  {
   "cell_type": "code",
   "execution_count": null,
   "id": "b2cda2d0",
   "metadata": {},
   "outputs": [],
   "source": [
    " >>> X = 'iNeuron'\n",
    "  >>> def func():\n",
    "  X = 'NI'\n",
    "  print(X)\n",
    " >>> func()\n",
    " >>> print(X)"
   ]
  },
  {
   "cell_type": "markdown",
   "id": "076f219d",
   "metadata": {},
   "source": [
    " \n",
    "Ans: The output of the code is NI and iNeuron. X=NI is in the local scope of the function func() hence the function prints the x value as NI. X = 'iNeuron' is in the global scope. hence print(X) prints output as iNeuron"
   ]
  },
  {
   "cell_type": "code",
   "execution_count": 3,
   "id": "8ff5f521",
   "metadata": {},
   "outputs": [
    {
     "name": "stdout",
     "output_type": "stream",
     "text": [
      "NI\n",
      "iNeuron\n"
     ]
    }
   ],
   "source": [
    "X = 'iNeuron'\n",
    "def func():\n",
    "    X = 'NI'\n",
    "    print(X)\n",
    "func()\n",
    "print(X)"
   ]
  },
  {
   "cell_type": "markdown",
   "id": "c315c901",
   "metadata": {},
   "source": [
    "4. What output does this code produce? Why?\n"
   ]
  },
  {
   "cell_type": "code",
   "execution_count": null,
   "id": "629d9d6d",
   "metadata": {},
   "outputs": [],
   "source": [
    ">>> X = 'iNeuron'\n",
    ">>> def func():\n",
    "global X\n",
    "X = 'NI'\n",
    ">>> func()\n",
    ">>> print(X)"
   ]
  },
  {
   "cell_type": "markdown",
   "id": "a8022537",
   "metadata": {},
   "source": [
    "\n",
    "Ans: The output of the code is NI. the global keyword allows a variable to be accessible in the current scope. since we are using global keyword inside the function func it directly access the variable in X in global scope. and changes its value to NI. hence the output of the code is NI"
   ]
  },
  {
   "cell_type": "code",
   "execution_count": 4,
   "id": "a99eda41",
   "metadata": {},
   "outputs": [
    {
     "name": "stdout",
     "output_type": "stream",
     "text": [
      "NI\n"
     ]
    }
   ],
   "source": [
    "X = 'iNeuron'\n",
    "def func():\n",
    "    global X\n",
    "    X = 'NI'\n",
    "func()\n",
    "print(X)"
   ]
  },
  {
   "cell_type": "markdown",
   "id": "6792f961",
   "metadata": {},
   "source": [
    "5. What about this code—what’s the output, and why?\n"
   ]
  },
  {
   "cell_type": "code",
   "execution_count": null,
   "id": "b49560ba",
   "metadata": {},
   "outputs": [],
   "source": [
    ">>> X = 'iNeuron'\n",
    " >>> def func():\n",
    " X = 'NI'\n",
    " def nested():\n",
    " print(X)\n",
    " nested()\n",
    " >>> func()\n",
    "  >>> X"
   ]
  },
  {
   "cell_type": "markdown",
   "id": "7c249169",
   "metadata": {},
   "source": [
    " \n",
    "Ans: The output of the code is NI. the reason for this output is if a function wants to access a variable, if its not available in its localscope. it looks for the variable in its global scope. similarly here also function nested looks for variable X in its global scope. hence the output of the code is NI"
   ]
  },
  {
   "cell_type": "code",
   "execution_count": 5,
   "id": "0a462fa2",
   "metadata": {},
   "outputs": [
    {
     "name": "stdout",
     "output_type": "stream",
     "text": [
      "NI\n"
     ]
    },
    {
     "data": {
      "text/plain": [
       "'iNeuron'"
      ]
     },
     "execution_count": 5,
     "metadata": {},
     "output_type": "execute_result"
    }
   ],
   "source": [
    "X = 'iNeuron'\n",
    "def func():\n",
    "    X = 'NI'\n",
    "    def nested():\n",
    "        print(X)\n",
    "    nested()\n",
    "func()\n",
    "X"
   ]
  },
  {
   "cell_type": "markdown",
   "id": "0874448d",
   "metadata": {},
   "source": [
    "6. How about this code: what is its output in Python 3, and explain?\n",
    "\n"
   ]
  },
  {
   "cell_type": "code",
   "execution_count": null,
   "id": "19529619",
   "metadata": {},
   "outputs": [],
   "source": [
    ">>> def func():\n",
    "X = 'NI'\n",
    "def nested():\n",
    "nonlocal X\n",
    "X = 'Spam'\n",
    "nested()\n",
    "print(X)\n",
    ">>> func()"
   ]
  },
  {
   "cell_type": "markdown",
   "id": "8e85f6d2",
   "metadata": {},
   "source": [
    "Ans: The output of the code is Spam. nonlocal keyword in python is used to declare a variable as not local.Hence the statement X = \"Spam\" is modified in the global scope. hence the output of print(X) statement is Spam"
   ]
  },
  {
   "cell_type": "code",
   "execution_count": 6,
   "id": "1180a1ec",
   "metadata": {},
   "outputs": [
    {
     "name": "stdout",
     "output_type": "stream",
     "text": [
      "Spam\n"
     ]
    }
   ],
   "source": [
    "def func():\n",
    "    X = 'NI'\n",
    "    def nested():\n",
    "        nonlocal X\n",
    "        X = 'Spam'\n",
    "    nested()\n",
    "    print(X)\n",
    "func()"
   ]
  }
 ],
 "metadata": {
  "kernelspec": {
   "display_name": "Python 3 (ipykernel)",
   "language": "python",
   "name": "python3"
  },
  "language_info": {
   "codemirror_mode": {
    "name": "ipython",
    "version": 3
   },
   "file_extension": ".py",
   "mimetype": "text/x-python",
   "name": "python",
   "nbconvert_exporter": "python",
   "pygments_lexer": "ipython3",
   "version": "3.9.12"
  }
 },
 "nbformat": 4,
 "nbformat_minor": 5
}
