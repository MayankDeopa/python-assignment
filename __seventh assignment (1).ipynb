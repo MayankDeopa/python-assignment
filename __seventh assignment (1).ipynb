{
 "cells": [
  {
   "cell_type": "markdown",
   "id": "8dc8e7db",
   "metadata": {},
   "source": [
    "1. What is the name of the feature responsible for generating Regex objects?\n"
   ]
  },
  {
   "cell_type": "markdown",
   "id": "90273f8d",
   "metadata": {},
   "source": [
    "re module is used for generation of Regex objects {re.compitle()}"
   ]
  },
  {
   "cell_type": "markdown",
   "id": "ef1475b9",
   "metadata": {},
   "source": [
    "2. Why do raw strings often appear in Regex objects?\n"
   ]
  },
  {
   "cell_type": "markdown",
   "id": "265f477e",
   "metadata": {},
   "source": [
    "to prevent backslash from excaping."
   ]
  },
  {
   "cell_type": "markdown",
   "id": "f6439674",
   "metadata": {},
   "source": [
    "3. What is the return value of the search() method?\n"
   ]
  },
  {
   "cell_type": "markdown",
   "id": "3c9ad190",
   "metadata": {},
   "source": [
    "if it finds the pattern then it returns matchable object or else none."
   ]
  },
  {
   "cell_type": "markdown",
   "id": "d9b29845",
   "metadata": {},
   "source": [
    "4. From a Match item, how do you get the actual strings that match the pattern?\n"
   ]
  },
  {
   "cell_type": "markdown",
   "id": "67414dd8",
   "metadata": {},
   "source": [
    "group() method returns matched pattern"
   ]
  },
  {
   "cell_type": "markdown",
   "id": "ccd63030",
   "metadata": {},
   "source": [
    "5. In the regex which created from the r'(\\d\\d\\d)-(\\d\\d\\d-\\d\\d\\d\\d)', what does group zero cover? Group 2? Group 1?\n"
   ]
  },
  {
   "cell_type": "markdown",
   "id": "d6b7198e",
   "metadata": {},
   "source": [
    "group 0 covers whole part\n",
    "\n",
    "group 1 covers first part\n",
    "\n",
    "group 2 covers second part"
   ]
  },
  {
   "cell_type": "markdown",
   "id": "75cb4c2a",
   "metadata": {},
   "source": [
    "6. In standard expression syntax, parentheses and intervals have distinct meanings. How can you tell a regex that you want it to fit real parentheses and periods?\n",
    "   "
   ]
  },
  {
   "cell_type": "markdown",
   "id": "a3e25cc3",
   "metadata": {},
   "source": [
    " \\., \\(, and \\)"
   ]
  },
  {
   "cell_type": "markdown",
   "id": "e358da9f",
   "metadata": {},
   "source": [
    "7. The findall() method returns a string list or a list of string tuples. What causes it to return one of the two options?\n"
   ]
  },
  {
   "cell_type": "markdown",
   "id": "9d974058",
   "metadata": {},
   "source": [
    "when we enclose our pattern inside \"()\" it will return tuple when we enclose our pattern without using \"()\" it will return tuple"
   ]
  },
  {
   "cell_type": "markdown",
   "id": "f247d0ec",
   "metadata": {},
   "source": [
    "8. In standard expressions, what does the | character mean?\n"
   ]
  },
  {
   "cell_type": "markdown",
   "id": "3d8d4384",
   "metadata": {},
   "source": [
    "in standard ecpression \" | \" means Alternation"
   ]
  },
  {
   "cell_type": "markdown",
   "id": "30a8a297",
   "metadata": {},
   "source": [
    "9. In regular expressions, what does the ? character stand for?\n"
   ]
  },
  {
   "cell_type": "markdown",
   "id": "6ad3170e",
   "metadata": {},
   "source": [
    "it stands for match zero or one of the preceding group"
   ]
  },
  {
   "cell_type": "markdown",
   "id": "90472b57",
   "metadata": {},
   "source": [
    "10.In regular expressions, what is the difference between the + and * characters?\n"
   ]
  },
  {
   "cell_type": "markdown",
   "id": "90018ad4",
   "metadata": {},
   "source": [
    "+ means one or more\n",
    "* means zero or more"
   ]
  },
  {
   "cell_type": "markdown",
   "id": "4cd401a4",
   "metadata": {},
   "source": [
    "11. What is the difference between {4} and {4,5} in regular expression?\n"
   ]
  },
  {
   "cell_type": "markdown",
   "id": "50fd76a0",
   "metadata": {},
   "source": [
    "{4} Matches the expression to its left 4 times, and not less.\n",
    "\n",
    "{4,5) Matches the expression to its left 4 to 5 times, and not less."
   ]
  },
  {
   "cell_type": "markdown",
   "id": "d7a2bd19",
   "metadata": {},
   "source": [
    "12. What do you mean by the \\d, \\w, and \\s shorthand character classes signify in regular expressions?\n"
   ]
  },
  {
   "cell_type": "markdown",
   "id": "e7448eac",
   "metadata": {},
   "source": [
    "\\d Matches digits, which means 0-9.\n",
    "\n",
    "\\w Matches alphanumeric characters, which means a-z, A-Z, and 0-9. It also matches the underscore, _.\n",
    "\n",
    "\\s Matches whitespace characters, which include the \\t, \\n, \\r, and space characters."
   ]
  },
  {
   "cell_type": "markdown",
   "id": "49a87f95",
   "metadata": {},
   "source": [
    "13. What do means by \\D, \\W, and \\S shorthand character classes signify in regular expressions?\n"
   ]
  },
  {
   "cell_type": "markdown",
   "id": "42d13c2a",
   "metadata": {},
   "source": [
    "\\D Matches any non-digits.\n",
    "\n",
    "\\W Matches any non-word character.\n",
    "\n",
    "\\S Matches non-whitespace characters."
   ]
  },
  {
   "cell_type": "markdown",
   "id": "7f11499b",
   "metadata": {},
   "source": [
    "14. What is the difference between . ? and . ?\n"
   ]
  },
  {
   "cell_type": "markdown",
   "id": "0599b0b1",
   "metadata": {},
   "source": [
    ".? adds ?, a quantifier that matches the preceding element (the \".\" here) 0 or 1 times.\n",
    "\n",
    ".* adds *, a quantifier that matches the preceding element (the \".\" here) 0 or more times."
   ]
  },
  {
   "cell_type": "code",
   "execution_count": null,
   "id": "10ce9bd3",
   "metadata": {},
   "outputs": [],
   "source": [
    "15. What is the syntax for matching both numbers and lowercase letters with a character class?\n",
    " "
   ]
  },
  {
   "cell_type": "code",
   "execution_count": 1,
   "id": "7f3e35a4",
   "metadata": {},
   "outputs": [
    {
     "name": "stdout",
     "output_type": "stream",
     "text": [
      "matched\n"
     ]
    }
   ],
   "source": [
    "import re\n",
    "def match(text):\n",
    "    patterns = '^[a-z0-9]*$'\n",
    "    if re.search(patterns,text):\n",
    "        return \"matched\"\n",
    "    else:\n",
    "        return\"not matched\"\n",
    "print(match(\"mayank\"))"
   ]
  },
  {
   "cell_type": "markdown",
   "id": "f66b1015",
   "metadata": {},
   "source": [
    "16. What is the procedure for making a normal expression in regax case insensitive?\n"
   ]
  },
  {
   "cell_type": "markdown",
   "id": "aa930f37",
   "metadata": {},
   "source": [
    "use re.IGNORECASE to search, match, or sub"
   ]
  },
  {
   "cell_type": "markdown",
   "id": "4fe34cba",
   "metadata": {},
   "source": [
    "17. What does the . character normally match? What does it match if re.DOTALL is passed as 2nd argument in re.compile()?\n"
   ]
  },
  {
   "cell_type": "markdown",
   "id": "8f21b79c",
   "metadata": {},
   "source": [
    "dot character matches everything in input except newline character\n",
    "\n",
    "By passing re. DOTALL as the second argument to re. compile() , you can make the dot character match all characters, including the newline character."
   ]
  },
  {
   "cell_type": "markdown",
   "id": "56ce7aa3",
   "metadata": {},
   "source": [
    "18. If numReg = re.compile(r'\\d+'), what will numRegex.sub('X', '11 drummers, 10 pipers, five rings, 4 hen') return?\n"
   ]
  },
  {
   "cell_type": "markdown",
   "id": "84d19a77",
   "metadata": {},
   "source": [
    "'X drummers, X pipers, five rings, X hens'"
   ]
  },
  {
   "cell_type": "markdown",
   "id": "fdf522cc",
   "metadata": {},
   "source": [
    "19. What does passing re.VERBOSE as the 2nd argument to re.compile() allow to do?\n"
   ]
  },
  {
   "cell_type": "markdown",
   "id": "7d7d11de",
   "metadata": {},
   "source": [
    "it will allow to add whitespace and comments to string passed to re.compile()."
   ]
  },
  {
   "cell_type": "markdown",
   "id": "3803160d",
   "metadata": {},
   "source": [
    "20. How would you write a regex that match a number with comma for every three digits? It must match the given following:\n"
   ]
  },
  {
   "cell_type": "markdown",
   "id": "855cd88e",
   "metadata": {},
   "source": [
    "'42'\n",
    "\n",
    "'1,234'\n",
    "\n",
    "'6,368,745'\n",
    "\n",
    "but not the following:\n",
    "\n",
    "'12,34,567' (which has only two digits between the commas)\n",
    "\n",
    "'1234' (which lacks commas)\n",
    "\n"
   ]
  },
  {
   "cell_type": "code",
   "execution_count": 2,
   "id": "3832b2a6",
   "metadata": {},
   "outputs": [
    {
     "data": {
      "text/plain": [
       "re.compile(r'^\\d{1,3}(,\\d{3})*$', re.UNICODE)"
      ]
     },
     "execution_count": 2,
     "metadata": {},
     "output_type": "execute_result"
    }
   ],
   "source": [
    "re.compile(r'^\\d{1,3}(,\\d{3})*$')"
   ]
  },
  {
   "cell_type": "markdown",
   "id": "8ce71a5f",
   "metadata": {},
   "source": [
    "21. How would you write a regex that matches the full name of someone whose last name is Watanabe? You can assume that the first name that comes before it will always be one word that begins with a capital letter. The regex must match the following:\n",
    "\n",
    "\n"
   ]
  },
  {
   "cell_type": "markdown",
   "id": "2ecd7353",
   "metadata": {},
   "source": [
    "'Haruto Watanabe'\n",
    "\n",
    "'Alice Watanabe'\n",
    "\n",
    "'RoboCop Watanabe'\n",
    "\n",
    "but not the following:\n",
    "\n",
    "'haruto Watanabe' (where the first name is not capitalized)\n",
    "\n",
    "'Mr. Watanabe' (where the preceding word has a nonletter character)\n",
    "\n",
    "'Watanabe' (which has no first name)\n",
    "\n",
    "'Haruto watanabe' (where Watanabe is not capitalized)"
   ]
  },
  {
   "cell_type": "code",
   "execution_count": 3,
   "id": "81814f8b",
   "metadata": {},
   "outputs": [
    {
     "data": {
      "text/plain": [
       "re.compile(r'[A-Z][a-z]*\\sNakamoto', re.UNICODE)"
      ]
     },
     "execution_count": 3,
     "metadata": {},
     "output_type": "execute_result"
    }
   ],
   "source": [
    "re.compile(r'[A-Z][a-z]*\\sNakamoto')"
   ]
  },
  {
   "cell_type": "markdown",
   "id": "631f599a",
   "metadata": {},
   "source": [
    "22. How would you write a regex that matches a sentence where the first word is either Alice, Bob,or Carol; the second word is either eats, pets, or throws; the third word is apples, cats, or baseballs; and the sentence ends with a period? This regex should be case-insensitive. It must match the following:\n"
   ]
  },
  {
   "cell_type": "markdown",
   "id": "852fcd0e",
   "metadata": {},
   "source": [
    "'Alice eats apples.'\n",
    "\n",
    "'Bob pets cats.'\n",
    "\n",
    "'Carol throws baseballs.'\n",
    "\n",
    "'Alice throws Apples.'\n",
    "\n",
    "'BOB EATS CATS.'\n",
    "\n",
    "but not the following: 'RoboCop eats apples.'\n",
    "\n",
    "'ALICE THROWS FOOTBALLS.'\n",
    "\n",
    "'Carol eats 7 cats.'"
   ]
  },
  {
   "cell_type": "code",
   "execution_count": 4,
   "id": "9b9322a5",
   "metadata": {},
   "outputs": [
    {
     "data": {
      "text/plain": [
       "re.compile(r'(Alice|Bob|Carol)\\s(eats|pets|throws)\\s(apples|cats|baseballs)\\.',\n",
       "           re.IGNORECASE|re.UNICODE)"
      ]
     },
     "execution_count": 4,
     "metadata": {},
     "output_type": "execute_result"
    }
   ],
   "source": [
    "re.compile(r'(Alice|Bob|Carol)\\s(eats|pets|throws)\\s(apples|cats|baseballs)\\.', re.IGNORECASE)"
   ]
  }
 ],
 "metadata": {
  "kernelspec": {
   "display_name": "Python 3 (ipykernel)",
   "language": "python",
   "name": "python3"
  },
  "language_info": {
   "codemirror_mode": {
    "name": "ipython",
    "version": 3
   },
   "file_extension": ".py",
   "mimetype": "text/x-python",
   "name": "python",
   "nbconvert_exporter": "python",
   "pygments_lexer": "ipython3",
   "version": "3.9.12"
  }
 },
 "nbformat": 4,
 "nbformat_minor": 5
}
